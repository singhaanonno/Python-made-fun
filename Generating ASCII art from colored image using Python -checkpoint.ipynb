{
 "cells": [
  {
   "cell_type": "code",
   "execution_count": null,
   "metadata": {},
   "outputs": [],
   "source": [
    "import sys\n",
    "from PIL import Image\n",
    "\n",
    "# pass the image as command line argument\n",
    "image_path = sys.argv[0]\n",
    "img = Image.open('divai2.jpg')# Now select the image.\n",
    "\n",
    "# resize the image\n",
    "width, height = img.size\n",
    "aspect_ratio = height/width\n",
    "new_width = 120\n",
    "new_height = aspect_ratio * new_width * 0.55\n",
    "img = img.resize((new_width, int(new_height)))\n",
    "# new size of image\n",
    "# print(img.size)\n",
    "\n",
    "# convert image to greyscale format\n",
    "img = img.convert('L')\n",
    "\n",
    "pixels = img.getdata()\n",
    "\n",
    "# replace each pixel with a character from array\n",
    "chars = [\"B\",\"S\",\"#\",\"&\",\"@\",\"$\",\"%\",\"*\",\"!\",\":\",\".\"]\n",
    "new_pixels = [chars[pixel//25] for pixel in pixels]\n",
    "new_pixels = ''.join(new_pixels)\n",
    "\n",
    "# split string of chars into multiple strings of length equal to new width and create a list\n",
    "new_pixels_count = len(new_pixels)\n",
    "ascii_image = [new_pixels[index:index + new_width] for index in range(0, new_pixels_count, new_width)]\n",
    "ascii_image = \"\\n\".join(ascii_image)\n",
    "print(ascii_image)\n",
    "\n",
    "# write to a text file.\n",
    "with open(\"ascii_image.txt\", \"w\") as f:\n",
    " f.write(ascii_image)\n"
   ]
  },
  {
   "cell_type": "code",
   "execution_count": null,
   "metadata": {},
   "outputs": [],
   "source": [
    "len(ascii_image)"
   ]
  }
 ],
 "metadata": {
  "kernelspec": {
   "display_name": "Python 3",
   "language": "python",
   "name": "python3"
  },
  "language_info": {
   "codemirror_mode": {
    "name": "ipython",
    "version": 3
   },
   "file_extension": ".py",
   "mimetype": "text/x-python",
   "name": "python",
   "nbconvert_exporter": "python",
   "pygments_lexer": "ipython3",
   "version": "3.7.6"
  }
 },
 "nbformat": 4,
 "nbformat_minor": 4
}
