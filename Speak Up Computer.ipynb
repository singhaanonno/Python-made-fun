{
 "cells": [
  {
   "cell_type": "markdown",
   "metadata": {},
   "source": [
    "# If we want our computer to speak up a string-----"
   ]
  },
  {
   "cell_type": "code",
   "execution_count": 25,
   "metadata": {},
   "outputs": [],
   "source": [
    "import pyttsx3 #python text to speak version 3\n",
    "\n",
    "friend=pyttsx3.init() # init stands for initialise\n",
    "friend.say('3 . 2 . 1 . and start . hello everyone. I am anonno singha ray . ')\n",
    "friend.runAndWait()"
   ]
  },
  {
   "cell_type": "markdown",
   "metadata": {},
   "source": [
    "# If we want to make any pdf into a AudioBook(reading a particular page)-----"
   ]
  },
  {
   "cell_type": "code",
   "execution_count": 23,
   "metadata": {},
   "outputs": [
    {
     "name": "stdout",
     "output_type": "stream",
     "text": [
      "1\n"
     ]
    },
    {
     "name": "stderr",
     "output_type": "stream",
     "text": [
      "Exception ignored in: <function BSTR.__del__ at 0x000001DA2B1BC5E8>\n",
      "Traceback (most recent call last):\n",
      "  File \"D:\\ANACONDA PYTHON\\envs\\dlib_env\\lib\\site-packages\\comtypes\\__init__.py\", line 1005, in __del__\n",
      "    def __del__(self, _free=windll.oleaut32.SysFreeString):\n",
      "KeyboardInterrupt\n"
     ]
    }
   ],
   "source": [
    "import pyttsx3 \n",
    "import PyPDF2\n",
    "\n",
    "book=open('mypdf.pdf','rb')\n",
    "pdfReader=PyPDF2.PdfFileReader(book)\n",
    "pages=pdfReader.numPages # It counts how many pages are in that book \n",
    "print(pages)\n",
    "\n",
    "friend=pyttsx3.init() # init stands for initialise\n",
    "page=pdfReader.getPage(0) # It will read the particular page.Here it will read the first page of the string \n",
    "text=page.extractText()  # It will extract all the texts from that particular page\n",
    "friend.say(text)         # now our computer will say whatever the text is \n",
    "friend.runAndWait()"
   ]
  },
  {
   "cell_type": "markdown",
   "metadata": {},
   "source": [
    "# If we want to make any pdf into a AudioBook(reading multiple pages)-----"
   ]
  },
  {
   "cell_type": "code",
   "execution_count": null,
   "metadata": {},
   "outputs": [],
   "source": [
    "# Simple.What we need to do is to use a simple for loop.\n",
    "import pyttsx3 \n",
    "import PyPDF2\n",
    "\n",
    "book=open('mypdf.pdf','rb')\n",
    "pdfReader=PyPDF2.PdfFileReader(book)\n",
    "pages=pdfReader.numPages\n",
    "print(pages)\n",
    "friend=pyttsx3.init() # init stands for initialise\n",
    "\n",
    "for num in range(7,14):\n",
    "    page=pdfReader.getPage(num)\n",
    "    text=page.extractText()\n",
    "    friend.say(text)\n",
    "    friend.runAndWait()"
   ]
  }
 ],
 "metadata": {
  "kernelspec": {
   "display_name": "Python 3",
   "language": "python",
   "name": "python3"
  },
  "language_info": {
   "codemirror_mode": {
    "name": "ipython",
    "version": 3
   },
   "file_extension": ".py",
   "mimetype": "text/x-python",
   "name": "python",
   "nbconvert_exporter": "python",
   "pygments_lexer": "ipython3",
   "version": "3.7.7"
  }
 },
 "nbformat": 4,
 "nbformat_minor": 4
}
