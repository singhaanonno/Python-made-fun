{
 "cells": [
  {
   "cell_type": "code",
   "execution_count": 1,
   "metadata": {},
   "outputs": [],
   "source": [
    "import pyautogui\n",
    "import time"
   ]
  },
  {
   "cell_type": "code",
   "execution_count": 2,
   "metadata": {},
   "outputs": [],
   "source": [
    "comments=[]\n",
    "love=[]\n",
    "a=[]\n",
    "b=[]\n",
    "comment=[x for x in range(1,61)]\n",
    "for i in comment:\n",
    "    comments.append(' hii everyone !!! How are you {}.'.format(i))\n",
    "    love.append('Its a FB comment Bot {}'.format(i))\n",
    "    a.append('Bot is commenting {}'.format(i))\n",
    "    b.append('Isnt it cool?')"
   ]
  },
  {
   "cell_type": "code",
   "execution_count": 3,
   "metadata": {},
   "outputs": [],
   "source": [
    "time.sleep(5)"
   ]
  },
  {
   "cell_type": "code",
   "execution_count": null,
   "metadata": {},
   "outputs": [],
   "source": [
    "for i in range(0,20):\n",
    "    if i%2==0:\n",
    "        pyautogui.typewrite(comments[i%10])\n",
    "    if i%3==0:\n",
    "        pyautogui.typewrite(love[i%10])\n",
    "    if i%6==0:\n",
    "        pyautogui.typewrite(a[i%10])\n",
    "    else:\n",
    "        pyautogui.typewrite(b[i%10])\n",
    "    pyautogui.typewrite(\"\\n\")    \n",
    "    time.sleep(4)"
   ]
  },
  {
   "cell_type": "markdown",
   "metadata": {},
   "source": [
    "# "
   ]
  },
  {
   "cell_type": "code",
   "execution_count": null,
   "metadata": {},
   "outputs": [],
   "source": [
    "Isnt it cool?\n",
    " hii everyone !!! How are you 3.Isnt it cool?\n",
    "    Its a FB comment Bot 4Isnt it cool?\n",
    "     hii everyone !!! How are you 5.Isnt it cool?\n",
    "        Isnt it cool?\n",
    "         hii everyone !!! How are you 7.Its a FB comment Bot 7Bot is commenting 7\n",
    "            Isnt it cool?\n",
    "             hii everyone !!! How are you 9.Isnt it cool?\n",
    "                Its a FB comment Bot 10Isnt it cool?\n",
    "                 hii everyone !!! How are you 1.Isnt it cool?\n",
    "                    Isnt it cool?\n",
    "                     hii everyone !!! How are you 3.Its a FB comment Bot 3Bot is commenting 3\n",
    "                        Isnt it cool?\n",
    "                         hii everyone !!! How are you 5.Isnt it cool?\n",
    "                            Its a FB comment Bot 6Isnt it cool?\n",
    "                             hii everyone !!! How are you 7.Isnt it cool?\n",
    "                                Isnt it cool?\n",
    "                                 hii everyone !!! How are you 9.Its a FB comment Bot 9Bot is commenting 9\n",
    "                                    Isnt it cool?\n",
    "                                    "
   ]
  },
  {
   "cell_type": "code",
   "execution_count": null,
   "metadata": {},
   "outputs": [],
   "source": []
  }
 ],
 "metadata": {
  "kernelspec": {
   "display_name": "Python 3",
   "language": "python",
   "name": "python3"
  },
  "language_info": {
   "codemirror_mode": {
    "name": "ipython",
    "version": 3
   },
   "file_extension": ".py",
   "mimetype": "text/x-python",
   "name": "python",
   "nbconvert_exporter": "python",
   "pygments_lexer": "ipython3",
   "version": "3.7.6"
  }
 },
 "nbformat": 4,
 "nbformat_minor": 4
}
