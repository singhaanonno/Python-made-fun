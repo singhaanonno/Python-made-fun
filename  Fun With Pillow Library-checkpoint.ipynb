{
 "cells": [
  {
   "cell_type": "code",
   "execution_count": null,
   "metadata": {},
   "outputs": [],
   "source": [
    "from PIL import Image,ImageFilter  #ImageFilter is for bluring the images\n",
    "import os"
   ]
  },
  {
   "cell_type": "code",
   "execution_count": null,
   "metadata": {},
   "outputs": [],
   "source": [
    "image1=Image.open('divai2.jpg')\n",
    "print(image1)                   # It will give us some information about the image\n",
    "image1.show()       # It will display the image locally  # In Microsoft Photos\n",
    "#image1.save('arpi.png')     # It will save arpi.jpg as arpi.png"
   ]
  },
  {
   "cell_type": "code",
   "execution_count": null,
   "metadata": {},
   "outputs": [],
   "source": [
    "from IPython.display import display\n",
    "display(image1)                      # If we want to display image into the jupyter notebook environment "
   ]
  },
  {
   "cell_type": "code",
   "execution_count": null,
   "metadata": {},
   "outputs": [],
   "source": [
    "for f in os.listdir('.'):\n",
    "    if f.endswith('.jpg'):\n",
    "        print(f)            # It will print out all the image name that ends with .jpg"
   ]
  },
  {
   "cell_type": "code",
   "execution_count": null,
   "metadata": {},
   "outputs": [],
   "source": [
    "for f in os.listdir('.'):\n",
    "    if f.endswith('.jpg'):\n",
    "        i=Image.open(f)\n",
    "        fn,fext=os.path.splitext(f)\n",
    "        print(fn)\n",
    "        i.save('Game/{}.png'.format(fn)) #It will save all the JPG photos into PNG photos and save it into Game folder"
   ]
  },
  {
   "cell_type": "code",
   "execution_count": null,
   "metadata": {},
   "outputs": [],
   "source": [
    "size_300=(300,300)\n",
    "size_700=(700,700)"
   ]
  },
  {
   "cell_type": "code",
   "execution_count": null,
   "metadata": {},
   "outputs": [],
   "source": [
    "for f in os.listdir('.'):\n",
    "    if f.endswith('.jpg'):\n",
    "        i=Image.open(f)\n",
    "        fn,fext=os.path.splitext(f)\n",
    "        print(fn)\n",
    "        \n",
    "        i.thumbnail(size_300)    # We wanna resize the images\n",
    "        i.save('Game/Untitled Folder/{}_300.png'.format(fn)) # It will save all the JPG photos into PNG photos and\n",
    "                                                              # save it into Untitled Folder under Game folder \n",
    "            \n",
    "        #i.thumbnail(size_700)     \n",
    "        #i.save('Game/Untitled Folder 1/{}_700.png'.format(fn))    # To resize \n",
    "        "
   ]
  },
  {
   "cell_type": "code",
   "execution_count": null,
   "metadata": {},
   "outputs": [],
   "source": [
    "image1=Image.open('arpi.jpg')\n",
    "image1.rotate(90).show()        # To rotate the iamges into 90 degree"
   ]
  },
  {
   "cell_type": "code",
   "execution_count": null,
   "metadata": {},
   "outputs": [],
   "source": [
    "image1.convert(mode=\"L\").show() # For Black and White Image"
   ]
  },
  {
   "cell_type": "code",
   "execution_count": null,
   "metadata": {},
   "outputs": [],
   "source": [
    "image1.filter(ImageFilter.GaussianBlur(15)).show() #To blur the image"
   ]
  },
  {
   "cell_type": "markdown",
   "metadata": {},
   "source": [
    "# Now It's From Cousera"
   ]
  },
  {
   "cell_type": "code",
   "execution_count": null,
   "metadata": {},
   "outputs": [],
   "source": [
    "import PIL\n",
    "from PIL import Image\n",
    "from PIL import ImageFilter\n",
    "from IPython.display import display\n",
    "\n",
    "file=\"arpi.jpg\"\n",
    "image=Image.open(file)"
   ]
  },
  {
   "cell_type": "code",
   "execution_count": null,
   "metadata": {},
   "outputs": [],
   "source": [
    "image=image.convert('RGB') # this stands for red, green blue mode\n",
    "blurred_image=image.filter(PIL.ImageFilter.BLUR)\n",
    "display(blurred_image)\n",
    "\n",
    "# Instead of using BLUR filter, we can use EMBOSS,SHARPEN,MedianFilter filters.\n",
    "# we can experiment with this"
   ]
  },
  {
   "cell_type": "code",
   "execution_count": null,
   "metadata": {},
   "outputs": [],
   "source": [
    "#You can actually see the number of pixels high the image is and the width of the image \n",
    "print(\"{}x{}\".format(image.width, image.height))"
   ]
  },
  {
   "cell_type": "code",
   "execution_count": null,
   "metadata": {},
   "outputs": [],
   "source": [
    "#we see that the first parameter to the crop function is a tuple which is the \n",
    "# left, upper, right, and lower values of the X/Y coordinates\n",
    "display(image.crop((50,0,190,150)))\n",
    "# Of course crop(), like other functions, only returns a copy of the image, and doesn't change the image itself."
   ]
  },
  {
   "cell_type": "code",
   "execution_count": null,
   "metadata": {},
   "outputs": [],
   "source": [
    "from PIL import ImageDraw\n",
    "drawing_object=ImageDraw.Draw(image)\n",
    "drawing_object.rectangle((50,0,190,150), fill = None, outline ='red')\n",
    "display(image)"
   ]
  },
  {
   "cell_type": "markdown",
   "metadata": {},
   "source": [
    "# Some New Features From Youtube"
   ]
  },
  {
   "cell_type": "code",
   "execution_count": null,
   "metadata": {},
   "outputs": [],
   "source": [
    "# Now we want to write some text in the image \n",
    "from PIL import ImageDraw,ImageFont,Image\n",
    "image=Image.open('arpi.jpg')\n",
    "draw=ImageDraw.Draw(image)\n",
    "points=70,10\n",
    "string='Python pillow tutorial'\n",
    "font=ImageFont.truetype(\"arial.ttf\",50)\n",
    "draw.text(points,string,\"red\",font=font)\n",
    "display(image)"
   ]
  },
  {
   "cell_type": "code",
   "execution_count": null,
   "metadata": {},
   "outputs": [],
   "source": []
  }
 ],
 "metadata": {
  "kernelspec": {
   "display_name": "Python 3",
   "language": "python",
   "name": "python3"
  },
  "language_info": {
   "codemirror_mode": {
    "name": "ipython",
    "version": 3
   },
   "file_extension": ".py",
   "mimetype": "text/x-python",
   "name": "python",
   "nbconvert_exporter": "python",
   "pygments_lexer": "ipython3",
   "version": "3.7.6"
  }
 },
 "nbformat": 4,
 "nbformat_minor": 4
}
