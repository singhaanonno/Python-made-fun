{
 "cells": [
  {
   "cell_type": "code",
   "execution_count": null,
   "metadata": {},
   "outputs": [],
   "source": [
    "import pytesseract as tess\n",
    "from PIL import Image\n",
    "tess.pytesseract.tesseract_cmd=r'D:\\tesseract ocr\\tesseract.exe'\n",
    "img=Image.open('helloworld.png')\n",
    "display(img)\n",
    "text=tess.image_to_string(img)\n",
    "print(text)"
   ]
  },
  {
   "cell_type": "code",
   "execution_count": null,
   "metadata": {},
   "outputs": [],
   "source": [
    "# In the previous example, we were using a clear, unambiguous image for conversion. Sometimes there will \n",
    "# be noise in images you want to OCR, making it difficult to extract the text. Luckily, there are \n",
    "# techniques we can use to increase the efficacy of OCR with pytesseract and Pillow."
   ]
  },
  {
   "cell_type": "code",
   "execution_count": null,
   "metadata": {},
   "outputs": [],
   "source": [
    "# Now try experimenting with some noisey images\n",
    "# Now you can see that tesseract cant read the text in the following iamge quite nicely\n",
    "img=Image.open('python1.png')\n",
    "# As you can see, this image had shapes of different opacities behind the text, which can confuse the tesseract engine.\n",
    "display(img)\n",
    "text=tess.image_to_string(img)\n",
    "print(text)"
   ]
  },
  {
   "cell_type": "code",
   "execution_count": null,
   "metadata": {},
   "outputs": [],
   "source": [
    "# now lets try out this method\n",
    "img=Image.open('python1.png')\n",
    "img = img.convert('L')\n",
    "display(img)\n",
    "text = tess.image_to_string(img) \n",
    "print(text)"
   ]
  },
  {
   "cell_type": "code",
   "execution_count": null,
   "metadata": {},
   "outputs": [],
   "source": [
    "# The next approach I would use is called binarization, which means to separate into two\n",
    "# distinct parts - in this case, black and white. Binarization is enacted through a process \n",
    "# called thresholding. If a pixel value is greater than a threshold value, it will be converted\n",
    "# to a black pixel; if it is lower than the threshold it will be converted to a white pixel. \n",
    "# This process eliminates noise in the OCR process allowing greater image recognition accuracy. \n",
    "# With Pillow, this process is straightforward.\n",
    "# Lets open the noisy impage and convert it using binarization\n",
    "img = Image.open('python1.png').convert('1')\n",
    "display(img)\n",
    "text = tess.image_to_string(img) \n",
    "print(text)"
   ]
  },
  {
   "cell_type": "code",
   "execution_count": null,
   "metadata": {},
   "outputs": [],
   "source": [
    "# So, that was a bit magical, and really required a fine reading of the docs to figure out\n",
    "# that the number \"1\" is a string parameter to the convert function actually does the binarization.\n",
    "# But you actually have all of the skills you need to write this functionality yourself.\n",
    "# Lets walk through an example. First, lets define a function called binarize, which takes in\n",
    "# an image and a threshold value:\n",
    "def binarize(image_to_transform, threshold):\n",
    "    # now, lets convert that image to a single greyscale image using convert()\n",
    "    output_image=image_to_transform.convert(\"L\")\n",
    "    # the threshold value is usually provided as a number between 0 and 255, which\n",
    "    # is the number of bits in a byte.\n",
    "    # the algorithm for the binarization is pretty simple, go through every pixel in the\n",
    "    # image and, if it's greater than the threshold, turn it all the way up (255), and\n",
    "    # if it's lower than the threshold, turn it all the way down (0).\n",
    "    # so lets write this in code. First, we need to iterate over all of the pixels in the\n",
    "    # image we want to work with\n",
    "    for x in range(output_image.width):\n",
    "        for y in range(output_image.height):\n",
    "            # for the given pixel at w,h, lets check its value against the threshold\n",
    "            if output_image.getpixel((x,y))< threshold: #note that the first parameter is actually a tuple object\n",
    "                # lets set this to zero\n",
    "                output_image.putpixel( (x,y), 0 )\n",
    "            else:\n",
    "                # otherwise lets set this to 255\n",
    "                output_image.putpixel( (x,y), 255 )\n",
    "    #now we just return the new image\n",
    "    return output_image\n",
    "\n",
    "# lets test this function over a range of different thresholds. Remember that you can use\n",
    "# the range() function to generate a list of numbers at different step sizes. range() is called\n",
    "# with a start, a stop, and a step size. So lets try range(0, 257, 64), which should generate 5\n",
    "# images of different threshold values\n",
    "for thresh in range(0,257,40):\n",
    "    print(\"Trying with threshold \" + str(thresh))\n",
    "    # Lets display the binarized image inline\n",
    "    display(binarize(Image.open('python1.png'), thresh))\n",
    "    # And lets use tesseract on it. It's inefficient to binarize it twice but this is just for\n",
    "    # a demo\n",
    "    print(tess.image_to_string(binarize(Image.open('python1.png'), thresh)))"
   ]
  },
  {
   "cell_type": "markdown",
   "metadata": {},
   "source": [
    "# Tesseract and Photographs"
   ]
  },
  {
   "cell_type": "code",
   "execution_count": null,
   "metadata": {},
   "outputs": [],
   "source": [
    "# Lets try a new example and bring together some of the things we have learned.\n",
    "# Here's an image of a storefront, lets load it and try and get the name of the\n",
    "# store out of the image\n",
    "from PIL import Image\n",
    "import pytesseract\n",
    "\n",
    "image=Image.open('storefront.jpg')\n",
    "display(image)\n",
    "# Finally, lets try and run tesseract on that image and see what the results are\n",
    "pytesseract.image_to_string(image)"
   ]
  },
  {
   "cell_type": "code",
   "execution_count": null,
   "metadata": {},
   "outputs": [],
   "source": [
    "# We see at the very bottom there is just an empty string. Tesseract is unable to take\n",
    "# this image and pull out the name. But we learned how to crop the images in the\n",
    "# last set of lectures, so lets try and help Tesseract by cropping out certain pieces.\n",
    "#\n",
    "# First, lets set the bounding box. In this image the store name is in a box\n",
    "# bounded by (315, 170, 700, 270)\n",
    "bounding_box=(315, 170, 700, 270)\n",
    "\n",
    "# Now lets crop the image\n",
    "title_image=image.crop(bounding_box)\n",
    "\n",
    "# Now lets display it and pull out the text\n",
    "display(title_image)\n",
    "pytesseract.image_to_string(title_image)"
   ]
  },
  {
   "cell_type": "code",
   "execution_count": null,
   "metadata": {},
   "outputs": [],
   "source": [
    "# Great, we see how with a bit of a problem reduction we can make that work. So now we have\n",
    "# been able to take an image, preprocess it where we expect to see text, and turn that text\n",
    "# into a string that python can understand.\n",
    "#\n",
    "# If you look back up at the image though, you'll see there is a small sign inside of the\n",
    "# shop that also has the shop name on it. I wonder if we're able to recognize the text on \n",
    "# that sign? Let's give it a try.\n",
    "#\n",
    "# First, we need to determine a bounding box for that sign. I'm going to show you a short-cut\n",
    "# to make this easier in an optional video in this module, but for now lets just use the bounding\n",
    "# box I decided on\n",
    "bounding_box=(900, 420, 940, 445)\n",
    "\n",
    "# Now, lets crop the image\n",
    "little_sign=image.crop((900, 420, 940, 445))\n",
    "display(little_sign)"
   ]
  },
  {
   "cell_type": "code",
   "execution_count": null,
   "metadata": {},
   "outputs": [],
   "source": [
    "# All right, that is a little sign! OCR works better with higher resolution images, so\n",
    "# lets increase the size of this image by using the pillow resize() function\n",
    "# Lets set the width and height equal to ten times the size it is now in a (w,h) tuple\n",
    "new_size=(little_sign.width*10,little_sign.height*10)"
   ]
  },
  {
   "cell_type": "code",
   "execution_count": null,
   "metadata": {},
   "outputs": [],
   "source": [
    "# I think we should be able to find something better. I can read it, but it looks\n",
    "# really pixelated. Lets see what all the different resize options look like\n",
    "options=[Image.NEAREST, Image.BOX, Image.BILINEAR, Image.HAMMING, Image.BICUBIC, Image.LANCZOS]\n",
    "for option in options:\n",
    "    # lets print the option name\n",
    "    print(option)\n",
    "    # lets display what this option looks like on our little sign\n",
    "    display(little_sign.resize( new_size, option))"
   ]
  },
  {
   "cell_type": "code",
   "execution_count": null,
   "metadata": {},
   "outputs": [],
   "source": [
    "# First lets resize to the larger size\n",
    "bigger_sign=little_sign.resize(new_size, Image.BICUBIC)\n",
    "# Lets print out the text\n",
    "pytesseract.image_to_string(bigger_sign)"
   ]
  },
  {
   "cell_type": "code",
   "execution_count": null,
   "metadata": {},
   "outputs": [],
   "source": [
    "# Well, no text there. Lets try and binarize this. First, let me just bring in the\n",
    "# binarization code we did earlier\n",
    "def binarize(image_to_transform, threshold):\n",
    "    output_image=image_to_transform.convert(\"L\")\n",
    "    for x in range(output_image.width):\n",
    "        for y in range(output_image.height):\n",
    "            if output_image.getpixel((x,y))< threshold:\n",
    "                output_image.putpixel( (x,y), 0 )\n",
    "            else:\n",
    "                output_image.putpixel( (x,y), 255 )\n",
    "    return output_image\n",
    "\n",
    "# Now, lets apply binarizations with, say, a threshold of 190, and try and display that\n",
    "# as well as do the OCR work\n",
    "binarized_bigger_sign=binarize(bigger_sign, 190)\n",
    "display(binarized_bigger_sign)\n",
    "pytesseract.image_to_string(binarized_bigger_sign)"
   ]
  },
  {
   "cell_type": "code",
   "execution_count": null,
   "metadata": {},
   "outputs": [],
   "source": [
    "# Ok, that text is pretty useless. How should we pick the best binarization\n",
    "# to use? Well, there are some methods, but lets just try something very simple to\n",
    "# show how well this can work. We have an english word we are trying to detect, \"FOSSIL\".\n",
    "# If we tried all binarizations, from 0 through 255, and looked to see if there were\n",
    "# any english words in that list, this might be one way. So lets see if we can\n",
    "# write a routine to do this.\n",
    "#\n",
    "# First, lets load a list of english words into a list. I put a copy in the readonly\n",
    "# directory for you to work with\n",
    "eng_dict=[]\n",
    "with open (\"words_alpha.txt\", \"r\") as f:\n",
    "    data=f.read()\n",
    "    # now we want to split this into a list based on the new line characters\n",
    "    eng_dict=data.split(\"\\n\")\n",
    "\n",
    "# Now lets iterate through all possible thresholds and look for an english word, printing\n",
    "# it out if it exists\n",
    "for i in range(150,170):\n",
    "    # lets binarize and convert this to s tring values\n",
    "    strng=pytesseract.image_to_string(binarize(bigger_sign,i))\n",
    "    # We want to remove non alphabetical characters, like ([%$]) from the text, here's\n",
    "    # a short method to do that\n",
    "    # first, lets convert our string to lower case only\n",
    "    strng=strng.lower()\n",
    "    # then lets import the string package - it has a nice list of lower case letters\n",
    "    import string\n",
    "    # now lets iterate over our string looking at it character by character, putting it in\n",
    "    # the comaprison text\n",
    "    comparison=''\n",
    "    for character in strng:\n",
    "        if character in string.ascii_lowercase:\n",
    "            comparison=comparison+character\n",
    "    # finally, lets search for comparison in the dictionary file\n",
    "    if comparison in eng_dict:\n",
    "        # and print it if we find it\n",
    "        print(i)\n",
    "        print(comparison)"
   ]
  },
  {
   "cell_type": "code",
   "execution_count": null,
   "metadata": {},
   "outputs": [],
   "source": [
    "# Well, not perfect, but we see fossil there among other values which are in the dictionary.\n",
    "# This is not a bad way to clean up OCR data. It can useful to use a language or domain specific \n",
    "# dictionary in practice, especially if you are generating a search engine for specialized language\n",
    "# such as a medical knowledge base or locations. And if you scroll up and look at the data\n",
    "# we were working with - this small little wall hanging on the inside of the store - it's not\n",
    "# so bad."
   ]
  },
  {
   "cell_type": "code",
   "execution_count": null,
   "metadata": {},
   "outputs": [],
   "source": [
    "# now lets try our same old method\n",
    "def binarize(image_to_transform, threshold):\n",
    "    output_image=image_to_transform.convert(\"L\")\n",
    "    \n",
    "    for x in range(output_image.width):\n",
    "        for y in range(output_image.height):            \n",
    "            if output_image.getpixel((x,y))< threshold:\n",
    "                output_image.putpixel( (x,y), 0 )\n",
    "            else:\n",
    "                output_image.putpixel( (x,y), 255 )\n",
    "    return output_image\n",
    "\n",
    "for thresh in range(150,170):\n",
    "    print(\"Trying with threshold \" + str(thresh))   \n",
    "    display(binarize(bigger_sign, thresh))    \n",
    "    print(tess.image_to_string(binarize(bigger_sign, thresh)))"
   ]
  },
  {
   "cell_type": "markdown",
   "metadata": {},
   "source": [
    "# Jupyter Widgets (Optional)  (USELESS BUT SOMTIMES MIGHT HELP)"
   ]
  },
  {
   "cell_type": "code",
   "execution_count": null,
   "metadata": {},
   "outputs": [],
   "source": [
    "# In this brief lecture I want to introduce you to one of the more advanced features of the \n",
    "# Jupyter notebook development environment called widgets. Sometimes you want\n",
    "# to interact with a function you have created and call it multiple times with different\n",
    "# parameters. For instance, if we wanted to draw a red box around a portion of an\n",
    "# image to try and fine tune the crop location. Widgets are one way to do this quickly\n",
    "# in the browser without having to learn how to write a large desktop application.\n",
    "#\n",
    "# Lets check it out. First we want to import the Image and ImageDraw classes from the\n",
    "# PILLOW package\n",
    "from PIL import Image, ImageDraw\n",
    "\n",
    "# Then we want to import the interact class from the widgets package\n",
    "from ipywidgets import interact\n",
    "\n",
    "# We will use interact to annotate a function. Lets bring in an image that we know we \n",
    "# are interested in, like the storefront image from a previous lecture\n",
    "image=Image.open('storefront.jpg')\n",
    "\n",
    "# Ok, our setup is done. Now we're going to use the interact decorator to indicate\n",
    "# that we want to wrap the python function. We do this using the @ sign. This will\n",
    "# take a set of parameters which are identical to the function to be called. Then Jupyter\n",
    "# will draw some sliders on the screen to let us manipulate these values. Decorators,\n",
    "# which is what the @ sign is describing, are standard python statements and just a\n",
    "# short hand for functions which wrap other functions. They are a bit advanced though, so\n",
    "# we haven't talked about them in this course, and you might just have to have some faith\n",
    "@interact(left=100, top=100, right=200, bottom=200)\n",
    "\n",
    "# Now we just write the function we had before\n",
    "def draw_border(left, top, right, bottom):\n",
    "    img=image.copy()\n",
    "    drawing_object=ImageDraw.Draw(img)\n",
    "    drawing_object.rectangle((left,top,right,bottom), fill = None, outline ='red')\n",
    "    display(img)"
   ]
  }
 ],
 "metadata": {
  "kernelspec": {
   "display_name": "Python 3",
   "language": "python",
   "name": "python3"
  },
  "language_info": {
   "codemirror_mode": {
    "name": "ipython",
    "version": 3
   },
   "file_extension": ".py",
   "mimetype": "text/x-python",
   "name": "python",
   "nbconvert_exporter": "python",
   "pygments_lexer": "ipython3",
   "version": "3.7.6"
  }
 },
 "nbformat": 4,
 "nbformat_minor": 4
}
